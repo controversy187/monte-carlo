{
 "cells": [
  {
   "cell_type": "markdown",
   "id": "1974311d-936c-423e-9f92-3a319aad3946",
   "metadata": {},
   "source": [
    "# Historical Forecasting\n",
    "I want to validate a Monte Carlo Simulation. I have a year's worth of data from a team, counting collected stories. Knowing how many stories they complete by the end of the year, I want to estimate, each sprint, what the odds are that they will complete that number of stories by the end of the year. Basically, we're back-testing the Monte Carlo simulations."
   ]
  },
  {
   "cell_type": "code",
   "execution_count": null,
   "id": "ff690c11-b801-40c6-9cdd-d322a69213d7",
   "metadata": {},
   "outputs": [],
   "source": [
    "import urllib.parse\n",
    "import re\n",
    "import numpy as np\n",
    "import matplotlib.pyplot as plt"
   ]
  },
  {
   "cell_type": "code",
   "execution_count": null,
   "id": "b0563d4f-6741-42b6-b97a-400c53d58f4f",
   "metadata": {},
   "outputs": [],
   "source": [
    "stories_completed_each_sprint = [2,2,7,1,3,6,7,6,5,2,1,1,4,5,5,6,5,3,5,5,5,8,5,4,3,7,14,4]\n",
    "num_simulations = 1000"
   ]
  },
  {
   "cell_type": "code",
   "execution_count": null,
   "id": "4959dbff-b1fe-4975-a3dd-9426c8624c5b",
   "metadata": {},
   "outputs": [],
   "source": [
    "total_sprints = len(stories_completed_each_sprint)\n",
    "total_backlog = sum(stories_completed_each_sprint)\n",
    "print(f\"There are {total_sprints} total sprints.\")\n",
    "print(f\"The backlog has {total_backlog} total stories.\")\n",
    "\n",
    "for sprint in range(total_sprints):\n",
    "    stories_completed = stories_completed_each_sprint[:sprint+1]\n",
    "    print(f\"We just completed sprint {sprint+1} and have finished {sum(stories_completed)} total stories.\")\n",
    "    backlog_size = total_backlog - sum(stories_completed)\n",
    "    \n",
    "    ## Set up our Monte Carlo Simulation.\n",
    "    # Zero out an array with a row for each iteration of the simulation.\n",
    "    sprints_to_completion = np.zeros(num_simulations)\n",
    "    \n",
    "    ## Run our simulations\n",
    "    for j in range(num_simulations):\n",
    "        # Initialize the backlog for this iteration\n",
    "        remaining_backlog = backlog_size\n",
    "        sprint_count = 0\n",
    "    \n",
    "        while remaining_backlog > 0:\n",
    "            # Randomly select the number of stories completed in a sprint\n",
    "            sim_stories_completed = np.random.choice(stories_completed)\n",
    "            \n",
    "            # Remove those stories from the backlog.\n",
    "            remaining_backlog -= sim_stories_completed\n",
    "            sprint_count += 1\n",
    "    \n",
    "        sprints_to_completion[j] = sprint_count\n",
    "\n",
    "    ## Analysis\n",
    "    # Adjust sprints_to_completion by adding the sprint value\n",
    "    adjusted_sprints = sprints_to_completion + sprint\n",
    "    \n",
    "    # Define bins: start from the minimum of adjusted_sprints, go up to the maximum plus 2\n",
    "    # The '+2' ensures the last bin includes the maximum value\n",
    "    non_empty_bins = np.arange(min(adjusted_sprints), max(adjusted_sprints) + 2)\n",
    "    \n",
    "    # Calculate histogram data\n",
    "    hist, bins = np.histogram(adjusted_sprints, bins=non_empty_bins)\n",
    "    \n",
    "    # Calculate cumulative percentages\n",
    "    cumulative_counts = np.cumsum(hist)\n",
    "    total_counts = cumulative_counts[-1]\n",
    "    cumulative_percentages = cumulative_counts / total_counts * 100\n",
    "    \n",
    "    # Plotting the histogram\n",
    "    plt.figure(figsize=(10, 6))\n",
    "    plt.hist(adjusted_sprints, bins=bins, alpha=0.7, color='blue', edgecolor='black', align='left')\n",
    "    \n",
    "    # Annotate with cumulative percentages\n",
    "    for i in range(len(cumulative_percentages)):\n",
    "        plt.text(bins[i], hist[i], f'{cumulative_percentages[i]:.1f}%', ha='center', va='bottom')\n",
    "    \n",
    "    plt.title('Distribution of Adjusted Sprints Required to Complete the Backlog with Cumulative Percentages')\n",
    "    plt.xlabel('Sprint Number (we actually finish in sprint 28)')\n",
    "    plt.ylabel('Frequency')\n",
    "    plt.xticks(bins[:-1])  # Set x-axis ticks to align with the adjusted sprint numbers\n",
    "    plt.show()\n",
    "\n"
   ]
  }
 ],
 "metadata": {
  "kernelspec": {
   "display_name": "Python 3 (ipykernel)",
   "language": "python",
   "name": "python3"
  },
  "language_info": {
   "codemirror_mode": {
    "name": "ipython",
    "version": 3
   },
   "file_extension": ".py",
   "mimetype": "text/x-python",
   "name": "python",
   "nbconvert_exporter": "python",
   "pygments_lexer": "ipython3",
   "version": "3.11.6"
  }
 },
 "nbformat": 4,
 "nbformat_minor": 5
}
