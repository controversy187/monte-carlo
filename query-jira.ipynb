{
 "cells": [
  {
   "cell_type": "markdown",
   "id": "b66434f5-8aba-414c-8b9d-b7dd371857e7",
   "metadata": {},
   "source": [
    "# Monte Carlo Simulation for Stories/Features/Epics"
   ]
  },
  {
   "cell_type": "code",
   "execution_count": null,
   "id": "fba80db4-4a46-4a34-a836-e43d43943658",
   "metadata": {},
   "outputs": [],
   "source": [
    "import numpy as np\n",
    "import matplotlib.pyplot as plt\n",
    "from collections import Counter"
   ]
  },
  {
   "cell_type": "markdown",
   "id": "62b02972-1eb9-4067-98da-24d1e8238681",
   "metadata": {},
   "source": [
    "## Input your historic data\n",
    "```completed``` is your historic data. Add the past 7-15 iterations (or days, sprints, etc) of data. Each item in the list should represent the number of completed stories/features/epics in that time period.\n",
    "\n",
    "```backlog_size``` is how many items remain in your backlog.\n",
    "\n",
    "```num_simulations``` is how many simulations you want the model to run. Higher values will likely be more accurate, with diminishing returns. 1000 is usually pretty decent, but you may want to increase this if your backlog is Very Large.\n",
    "\n",
    "```deadline``` is for our second model, where we are forecasting how many items will be completed in so many iterations. Input your target days/weeks/sprints here."
   ]
  },
  {
   "cell_type": "code",
   "execution_count": null,
   "id": "de8f481d-55c8-4a17-a3f3-df04210a27cd",
   "metadata": {},
   "outputs": [],
   "source": [
    "# Past Data. Each element of this list represents how many \"items\" were completed in each given day/sprint/timebox.\n",
    "completed = [4,2,7,6,3,3,4,5,4,7,7,0,1,3,2,1,2,1,1,7]\n",
    "\n",
    "## Start to set up our Monte Carlo Simulation\n",
    "backlog_size = 50  # Items left in backlog\n",
    "num_simulations = 1000  # Number of simulation runs\n",
    "deadline = 15"
   ]
  },
  {
   "cell_type": "markdown",
   "id": "8e663f00-5a59-43dc-a9a8-c30c99dceab9",
   "metadata": {},
   "source": [
    "## Run the simulations"
   ]
  },
  {
   "cell_type": "code",
   "execution_count": null,
   "id": "2cda7c6e-b1f9-46e2-bc59-58945c6f715f",
   "metadata": {
    "jupyter": {
     "source_hidden": true
    }
   },
   "outputs": [],
   "source": [
    "# Zero out an array with a row for each iteration of the simulation.\n",
    "iterations_to_completion = np.zeros(num_simulations)\n",
    "\n",
    "## Run our simulations\n",
    "for i in range(num_simulations):\n",
    "    # Initialize the backlog for this iteration\n",
    "    remaining_backlog = backlog_size\n",
    "    iteration_count = 0\n",
    "\n",
    "    while remaining_backlog > 0:\n",
    "        # Randomly select the number of stories completed in a sprint\n",
    "        stories_completed = np.random.choice(completed)\n",
    "        \n",
    "        # Remove those stories from the backlog.\n",
    "        remaining_backlog -= stories_completed\n",
    "        iteration_count += 1\n",
    "\n",
    "    iterations_to_completion[i] = iteration_count\n",
    "\n",
    "iterations_to_completion = sorted(iterations_to_completion)\n",
    "# iterations_to_completion now contains the number of sprints needed for each simulation run\n",
    "\n",
    "# Initialize an array to track the total work items completed by the final iteration in each simulation\n",
    "total_completed_by_final = np.zeros(num_simulations)\n",
    "\n",
    "## Run our simulations\n",
    "for sim in range(num_simulations):\n",
    "    cumulative_completed = 0\n",
    "\n",
    "    for iteration in range(deadline):\n",
    "        # Randomly select the number of stories completed in a sprint\n",
    "        stories_completed = np.random.choice(completed)\n",
    "        \n",
    "        # Update the cumulative completed count\n",
    "        cumulative_completed += stories_completed\n",
    "\n",
    "    # Store the total completed by the final iteration for this simulation\n",
    "    total_completed_by_final[sim] = cumulative_completed\n",
    "\n",
    "# Now total_completed_by_final contains the total number of work items completed by the final iteration in each simulation\n",
    "\n",
    "print(f\"{num_simulations} simulations run.\")"
   ]
  },
  {
   "cell_type": "markdown",
   "id": "d82499ca-451a-43b6-bf1c-7009a056eff8",
   "metadata": {},
   "source": [
    "## Display the Iterations to Completion Histogram and data table\n",
    "After running you will see a histogram of the results, and a table of the granular results. The histogram shows how many iterations each run took, and therefore how likely your backlog is expected to be completed in so many runs."
   ]
  },
  {
   "cell_type": "code",
   "execution_count": null,
   "id": "73d1079e-7634-45a5-b2f3-27e272fa3bfc",
   "metadata": {
    "jupyter": {
     "source_hidden": true
    }
   },
   "outputs": [],
   "source": [
    "# Calculate histogram data\n",
    "hist, bins = np.histogram(iterations_to_completion, bins=range(1, int(max(iterations_to_completion)) + 2))\n",
    "\n",
    "# Calculate cumulative percentages\n",
    "cumulative_counts = np.cumsum(hist)\n",
    "total_counts = cumulative_counts[-1]\n",
    "cumulative_percentages = cumulative_counts / total_counts * 100\n",
    "\n",
    "# Displaying the cumulative distribution in a readable list format, only if the percentage is non-zero\n",
    "cumulative_percentages_list = [f\"{bins[i]}: {cumulative_percentages[i]:.2f}%\" for i in range(len(cumulative_percentages)) if cumulative_percentages[i] > 0]\n",
    "\n",
    "# Plotting the histogram\n",
    "plt.figure(figsize=(10, 6))\n",
    "\n",
    "# Adjusting the histogram to show only non-empty columns\n",
    "non_empty_bins_indices = [i for i in range(len(hist)) if hist[i] > 0]\n",
    "non_empty_bin_edges = [bins[i] for i in non_empty_bins_indices] + [bins[non_empty_bins_indices[-1] + 1]]\n",
    "\n",
    "# Plotting the histogram with non-empty bins only\n",
    "plt.hist(iterations_to_completion, bins=non_empty_bin_edges, alpha=0.7, color='blue', edgecolor='black', align='mid')\n",
    "\n",
    "# Annotating with cumulative percentages\n",
    "for i in non_empty_bins_indices:\n",
    "    plt.text(bins[i], hist[i], f'{cumulative_percentages[i]:.1f}%', ha='center', va='bottom')\n",
    "\n",
    "plt.title('Distribution of Iterations Required to Complete the Backlog with Cumulative Percentages')\n",
    "plt.xlabel('Number of Iterations')\n",
    "plt.ylabel('Frequency')\n",
    "plt.xticks(non_empty_bins_indices)  # Set x-axis ticks to show every sprint number\n",
    "plt.show()\n",
    "\n",
    "# Printing the list\n",
    "for item in cumulative_percentages_list:\n",
    "    print(item)\n"
   ]
  },
  {
   "cell_type": "markdown",
   "id": "707a3ad7-9d3e-4efa-ba5a-5b896aa37872",
   "metadata": {},
   "source": [
    "## Display the Work Items Complete by Iteration Histogram and data table\n",
    "After running you will see a histogram of the results, and a table of the granular results. The histogram shows how many work items you can expect to complete in the number of iterations you specified above in ```deadline```."
   ]
  },
  {
   "cell_type": "code",
   "execution_count": null,
   "id": "262a57ea-fb3d-4032-8f62-6f9ac7338518",
   "metadata": {
    "jupyter": {
     "source_hidden": true
    }
   },
   "outputs": [],
   "source": [
    "# Calculate histogram data with automatic binning for the histogram\n",
    "hist_auto, bins_auto = np.histogram(total_completed_by_final, bins='auto')\n",
    "\n",
    "# Calculate histogram data with integer-aligned bins for the data table\n",
    "min_value = int(min(total_completed_by_final))\n",
    "max_value = int(max(total_completed_by_final)) + 1  # +1 to include the upper edge\n",
    "bins_integer = np.arange(min_value, max_value + 1)  # +1 to include the last value as a bin edge\n",
    "hist_integer, _ = np.histogram(total_completed_by_final, bins=bins_integer)\n",
    "\n",
    "# Calculate cumulative percentages using the integer-aligned histogram\n",
    "cumulative_counts = np.cumsum(hist_integer)\n",
    "total_counts = cumulative_counts[-1]\n",
    "cumulative_percentages = cumulative_counts / total_counts * 100\n",
    "\n",
    "# Displaying the cumulative distribution in a readable list format, only if the percentage is non-zero\n",
    "cumulative_percentages_list = [f\"{bins_integer[i]}: {cumulative_percentages[i]:.2f}%\" for i in range(len(cumulative_percentages)) if cumulative_percentages[i] > 0]\n",
    "\n",
    "# Plotting the histogram using automatic bins\n",
    "plt.figure(figsize=(10, 6))\n",
    "plt.hist(total_completed_by_final, bins=bins_auto, alpha=0.7, color='blue', edgecolor='black', align='left')\n",
    "\n",
    "plt.title('Distribution of Total Work Items Completed by the final Iteration')\n",
    "plt.xlabel('Total Work Items Completed')\n",
    "plt.ylabel('Frequency')\n",
    "plt.show()\n",
    "\n",
    "# Printing the list\n",
    "for item in cumulative_percentages_list:\n",
    "    print(item)"
   ]
  }
 ],
 "metadata": {
  "kernelspec": {
   "display_name": "Python 3 (ipykernel)",
   "language": "python",
   "name": "python3"
  },
  "language_info": {
   "codemirror_mode": {
    "name": "ipython",
    "version": 3
   },
   "file_extension": ".py",
   "mimetype": "text/x-python",
   "name": "python",
   "nbconvert_exporter": "python",
   "pygments_lexer": "ipython3",
   "version": "3.11.6"
  }
 },
 "nbformat": 4,
 "nbformat_minor": 5
}
